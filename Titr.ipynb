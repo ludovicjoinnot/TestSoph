{
  "nbformat": 4,
  "nbformat_minor": 0,
  "metadata": {
    "colab": {
      "name": "Titr",
      "provenance": [],
      "authorship_tag": "ABX9TyO5zMA8YPb/dY9SDWtn40xO",
      "include_colab_link": true
    },
    "kernelspec": {
      "name": "python3",
      "display_name": "Python 3"
    },
    "language_info": {
      "name": "python"
    }
  },
  "cells": [
    {
      "cell_type": "markdown",
      "metadata": {
        "id": "view-in-github",
        "colab_type": "text"
      },
      "source": [
        "<a href=\"https://colab.research.google.com/github/ludovicjoinnot/TestSoph/blob/main/Titr.ipynb\" target=\"_parent\"><img src=\"https://colab.research.google.com/assets/colab-badge.svg\" alt=\"Open In Colab\"/></a>"
      ]
    },
    {
      "cell_type": "code",
      "execution_count": 2,
      "metadata": {
        "colab": {
          "base_uri": "https://localhost:8080/"
        },
        "id": "5tSvEDJIO59V",
        "outputId": "0378f950-6545-4140-c096-83950452a41a"
      },
      "outputs": [
        {
          "output_type": "stream",
          "name": "stdout",
          "text": [
            "Hello miss !\n"
          ]
        }
      ],
      "source": [
        "print('Hello miss !')"
      ]
    },
    {
      "cell_type": "code",
      "source": [
        "print('Boire un coup... ou tirer un coup...')"
      ],
      "metadata": {
        "colab": {
          "base_uri": "https://localhost:8080/"
        },
        "id": "_2ozeK3GPNE5",
        "outputId": "8afa998f-33c9-4ac5-d770-674c19f31bd6"
      },
      "execution_count": 3,
      "outputs": [
        {
          "output_type": "stream",
          "name": "stdout",
          "text": [
            "Boire un coup... ou tirer un coup...\n"
          ]
        }
      ]
    }
  ]
}